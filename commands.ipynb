{
 "cells": [
  {
   "cell_type": "markdown",
   "id": "0cfad8aa",
   "metadata": {},
   "source": [
    "ns-process-data video --data data-pre/hoover/hoover.mp4 data-pre/hoover/hoover-eval.mp4 --output-dir data/stanford-dataset/hoover --num-frames-target 100"
   ]
  },
  {
   "cell_type": "markdown",
   "id": "12d969ac",
   "metadata": {},
   "source": [
    "set DATASET=hoover\n",
    "\n",
    "set BASENAME_EXPERIMENT_NAME=%DATASET%-baseline\n",
    "\n",
    "set GT_EXPERIMENT_NAME=%DATASET%-pseudo-gt\n",
    "\n",
    "set OUTPUT_FOLDER_PRE=outputs-pretrained/%DATASET%\n",
    "\n",
    "set OUTPUT_FOLDER_POST=outputs-postprocessed/%DATASET%\n",
    "\n",
    "set RENDER_FOLDER_POST=renders-postprocessed/%DATASET%"
   ]
  },
  {
   "cell_type": "markdown",
   "id": "5bad3d24",
   "metadata": {},
   "source": [
    "ns-train nerfacto --vis viewer+wandb --data data/stanford-dataset/%DATASET% --experiment-name %BASENAME_EXPERIMENT_NAME% --output-dir %OUTPUT_FOLDER_PRE% nerfstudio-data --eval-mode eval-frame-index --train-frame-indices 0 --eval-frame-indices 1"
   ]
  },
  {
   "cell_type": "markdown",
   "id": "49e61c23",
   "metadata": {},
   "source": [
    "ns-train nerfacto --vis viewer+wandb --data data/stanford-dataset/%DATASET% --experiment-name %GT_EXPERIMENT_NAME% --output-dir %OUTPUT_FOLDER_PRE% nerfstudio-data --eval-mode eval-frame-index --train-frame-indices 0 1 --eval-frame-indices 1"
   ]
  },
  {
   "cell_type": "markdown",
   "id": "e20a971c",
   "metadata": {},
   "source": [
    "python scripts/launch_nerf.py train --experiment-name baselines"
   ]
  },
  {
   "cell_type": "markdown",
   "id": "735a12a5",
   "metadata": {},
   "source": [
    "python scripts/launch_nerf.py train --experiment-name pseudo-gt"
   ]
  },
  {
   "cell_type": "markdown",
   "id": "72519233",
   "metadata": {},
   "source": [
    "python scripts/launch_nerf.py render --input-folder %OUTPUT_FOLDER_POST% --output-folder %RENDER_FOLDER_POST% --downscale-factor 2"
   ]
  },
  {
   "cell_type": "markdown",
   "id": "1cb8f6cb",
   "metadata": {},
   "source": [
    "python scripts/launch_nerf.py metrics --input-folder %RENDER_FOLDER_POST% --pseudo-gt-experiment-name %DATASET%---nerfacto---pseudo-gt"
   ]
  },
  {
   "cell_type": "code",
   "execution_count": null,
   "id": "d212cdab",
   "metadata": {},
   "outputs": [],
   "source": []
  }
 ],
 "metadata": {
  "kernelspec": {
   "display_name": "Python 3 (ipykernel)",
   "language": "python",
   "name": "python3"
  },
  "language_info": {
   "codemirror_mode": {
    "name": "ipython",
    "version": 3
   },
   "file_extension": ".py",
   "mimetype": "text/x-python",
   "name": "python",
   "nbconvert_exporter": "python",
   "pygments_lexer": "ipython3",
   "version": "3.11.5"
  }
 },
 "nbformat": 4,
 "nbformat_minor": 5
}
