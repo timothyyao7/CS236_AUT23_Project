{
 "cells": [
  {
   "cell_type": "markdown",
   "id": "0cfad8aa",
   "metadata": {},
   "source": [
    "ns-process-data video --data data-pre/hoover/hoover.mp4 data-pre/hoover/hoover-eval.mp4 --output-dir data/stanford-dataset/hoover --num-frames-target 100"
   ]
  },
  {
   "cell_type": "markdown",
   "id": "b3ccc80d",
   "metadata": {},
   "source": [
    "set DATASET=hoover\n",
    "\n",
    "set BASENAME_EXPERIMENT_NAME=%DATASET%-baseline\n",
    "\n",
    "set GT_EXPERIMENT_NAME=%DATASET%-pseudo-gt\n",
    "\n",
    "set OUTPUT_FOLDER_PRE=outputs-pretrained/%DATASET%\n",
    "\n",
    "set OUTPUT_FOLDER_POST=outputs-postprocessed/%DATASET%\n",
    "\n",
    "set RENDER_FOLDER_POST=renders-postprocessed/%DATASET%"
   ]
  },
  {
   "cell_type": "markdown",
   "id": "586a19ef",
   "metadata": {},
   "source": [
    "ns-train nerfacto --vis viewer+wandb --data data/stanford-dataset/%DATASET% --experiment-name %BASENAME_EXPERIMENT_NAME% --output-dir %OUTPUT_FOLDER_PRE% nerfstudio-data --eval-mode eval-frame-index --train-frame-indices 0 --eval-frame-indices 1"
   ]
  },
  {
   "cell_type": "markdown",
   "id": "bb52c1d7",
   "metadata": {},
   "source": [
    "ns-train nerfacto --vis viewer+wandb --data data/stanford-dataset/%DATASET% --experiment-name %GT_EXPERIMENT_NAME% --output-dir %OUTPUT_FOLDER_PRE% nerfstudio-data --eval-mode eval-frame-index --train-frame-indices 0 1 --eval-frame-indices 1"
   ]
  },
  {
   "cell_type": "markdown",
   "id": "00b0fc51",
   "metadata": {},
   "source": [
    "python scripts/launch_nerf.py train --experiment-name baselines"
   ]
  },
  {
   "cell_type": "markdown",
   "id": "d2e6a372",
   "metadata": {},
   "source": [
    "python scripts/launch_nerf.py train --experiment-name pseudo-gt"
   ]
  }
 ],
 "metadata": {
  "kernelspec": {
   "display_name": "Python 3 (ipykernel)",
   "language": "python",
   "name": "python3"
  },
  "language_info": {
   "codemirror_mode": {
    "name": "ipython",
    "version": 3
   },
   "file_extension": ".py",
   "mimetype": "text/x-python",
   "name": "python",
   "nbconvert_exporter": "python",
   "pygments_lexer": "ipython3",
   "version": "3.11.5"
  }
 },
 "nbformat": 4,
 "nbformat_minor": 5
}
